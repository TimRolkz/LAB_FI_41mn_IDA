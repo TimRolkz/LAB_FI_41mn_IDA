{
 "cells": [
  {
   "cell_type": "markdown",
   "id": "e1dbce52",
   "metadata": {},
   "source": [
    "# 1. Повнозв'язані нейронні мережі\n",
    "# Вирішіть завдання класифікації даних, з якими ви працювали в лабораторній № 1 за допомогою повнозв’язаної нейромережі прямого поширення (fully connected feed-forward network). Результати порівняйте з одержаними раніше. "
   ]
  },
  {
   "cell_type": "code",
   "execution_count": 1,
   "id": "f6285a63-e584-4a41-b711-a7144edcf5d7",
   "metadata": {},
   "outputs": [
    {
     "name": "stdout",
     "output_type": "stream",
     "text": [
      "Defaulting to user installation because normal site-packages is not writeable\n",
      "Requirement already satisfied: torch in c:\\users\\v1415\\appdata\\roaming\\python\\python311\\site-packages (2.5.1)\n",
      "Requirement already satisfied: torchvision in c:\\users\\v1415\\appdata\\roaming\\python\\python311\\site-packages (0.20.1)\n",
      "Requirement already satisfied: torchaudio in c:\\users\\v1415\\appdata\\roaming\\python\\python311\\site-packages (2.5.1)\n",
      "Requirement already satisfied: filelock in c:\\users\\v1415\\appdata\\roaming\\python\\python311\\site-packages (from torch) (3.16.1)\n",
      "Requirement already satisfied: typing-extensions>=4.8.0 in c:\\users\\v1415\\appdata\\roaming\\python\\python311\\site-packages (from torch) (4.12.2)\n",
      "Requirement already satisfied: networkx in c:\\users\\v1415\\appdata\\roaming\\python\\python311\\site-packages (from torch) (3.3)\n",
      "Requirement already satisfied: jinja2 in c:\\users\\v1415\\appdata\\roaming\\python\\python311\\site-packages (from torch) (3.1.2)\n",
      "Requirement already satisfied: fsspec in c:\\users\\v1415\\appdata\\roaming\\python\\python311\\site-packages (from torch) (2024.9.0)\n",
      "Requirement already satisfied: sympy==1.13.1 in c:\\users\\v1415\\appdata\\roaming\\python\\python311\\site-packages (from torch) (1.13.1)\n",
      "Requirement already satisfied: mpmath<1.4,>=1.1.0 in c:\\users\\v1415\\appdata\\roaming\\python\\python311\\site-packages (from sympy==1.13.1->torch) (1.3.0)\n",
      "Requirement already satisfied: numpy in c:\\users\\v1415\\appdata\\roaming\\python\\python311\\site-packages (from torchvision) (1.24.3)\n",
      "Requirement already satisfied: pillow!=8.3.*,>=5.3.0 in c:\\users\\v1415\\appdata\\roaming\\python\\python311\\site-packages (from torchvision) (10.0.1)\n",
      "Requirement already satisfied: MarkupSafe>=2.0 in c:\\users\\v1415\\appdata\\roaming\\python\\python311\\site-packages (from jinja2->torch) (2.1.3)\n"
     ]
    }
   ],
   "source": [
    "!pip install torch torchvision torchaudio"
   ]
  },
  {
   "cell_type": "code",
   "execution_count": 2,
   "id": "932acb2c-703d-4a8a-831b-f9c9309cfccb",
   "metadata": {},
   "outputs": [
    {
     "name": "stdout",
     "output_type": "stream",
     "text": [
      "Типи даних:\n",
      " Country                             object\n",
      "Year                               float64\n",
      "Status                              object\n",
      "Adult Mortality                    float64\n",
      "infant deaths                      float64\n",
      "Alcohol                            float64\n",
      "percentage expenditure             float64\n",
      "Hepatitis B                        float64\n",
      "Measles                            float64\n",
      " BMI                               float64\n",
      "under-five deaths                  float64\n",
      "Polio                              float64\n",
      "Total expenditure                  float64\n",
      "Diphtheria                         float64\n",
      " HIV/AIDS                          float64\n",
      "GDP                                float64\n",
      "Population                         float64\n",
      " thinness  1-19 years              float64\n",
      " thinness 5-9 years                float64\n",
      "Income composition of resources    float64\n",
      "Schooling                          float64\n",
      "dtype: object\n",
      "Категоріальні колонки:\n",
      " Index(['Country', 'Status'], dtype='object')\n",
      "Розмір після кодування: (2938, 212)\n"
     ]
    }
   ],
   "source": [
    "import torch\n",
    "import torch.nn as nn\n",
    "from sklearn.model_selection import train_test_split\n",
    "from sklearn.preprocessing import StandardScaler, LabelEncoder\n",
    "import pandas as pd\n",
    "import numpy as np\n",
    "\n",
    "df = pd.read_csv(\"Life Expectancy Data.csv\")\n",
    "\n",
    "from sklearn.impute import SimpleImputer\n",
    "imputer=SimpleImputer(missing_values=np.nan,strategy='mean',fill_value=None)\n",
    "df_nan = df.isnull().sum()\n",
    "list_col_to_fill = list(df_nan[df_nan > 0].index)\n",
    "for cl_n in list_col_to_fill:\n",
    "    df[cl_n] = imputer.fit_transform(df[[cl_n]])\n",
    "    \n",
    "def classify_life_expectancy(value):\n",
    "    if value < 60:\n",
    "        return 0  # Низька\n",
    "    elif 60 <= value <= 75:\n",
    "        return 1  # Середня\n",
    "    else:\n",
    "        return 2  # Висока\n",
    "X = df.drop(columns=[\"Life expectancy \"])\n",
    "df['Life expectancy class'] = df['Life expectancy '].apply(classify_life_expectancy)\n",
    "y = df['Life expectancy class']\n",
    "\n",
    "\n",
    "from sklearn.preprocessing import StandardScaler\n",
    "numeric_cols = X.select_dtypes(include=['float64', 'int64']).columns\n",
    "\n",
    "\n",
    "scaler = StandardScaler()\n",
    "X[numeric_cols] = scaler.fit_transform(X[numeric_cols])\n",
    "categorical_columns = X.select_dtypes(include=['object']).columns\n",
    "X = pd.get_dummies(X, columns=categorical_columns, drop_first=True)\n",
    "X['Status_Developing'] = X['Status_Developing'].astype(int)\n",
    "for col_ in X.columns:\n",
    "    if \"Country_\" in col_:\n",
    "        X[col_] = X[col_].astype(int)\n",
    "    \n",
    "\n",
    "X_train, X_test, y_train, y_test = train_test_split(X, y, test_size=0.2, random_state=42)\n",
    "X_train = torch.tensor(X_train.values, dtype=torch.float32)  \n",
    "X_test = torch.tensor(X_test.values, dtype=torch.float32)   \n",
    "y_train = torch.tensor(y_train.values, dtype=torch.long)  \n",
    "y_test = torch.tensor(y_test.values, dtype=torch.long)"
   ]
  },
  {
   "cell_type": "code",
   "execution_count": null,
   "id": "aeccf2da",
   "metadata": {},
   "outputs": [],
   "source": [
    "class FeedForwardNN(nn.Module):\n",
    "    def __init__(self, input_dim, num_classes):\n",
    "        super(FeedForwardNN, self).__init__()\n",
    "        self.fc1 = nn.Linear(input_dim, 64)\n",
    "        self.fc2 = nn.Linear(64, 32)\n",
    "        self.fc3 = nn.Linear(32, num_classes)  \n",
    "        self.relu = nn.ReLU()\n",
    "\n",
    "    def forward(self, x):\n",
    "        x = self.relu(self.fc1(x))\n",
    "        x = self.relu(self.fc2(x))\n",
    "        x = self.fc3(x)\n",
    "        return x\n",
    "\n",
    "\n",
    "num_classes = 3  \n",
    "input_dim = X_train.shape[1]\n",
    "model = FeedForwardNN(input_dim, num_classes)\n",
    "\n",
    "criterion = nn.CrossEntropyLoss() \n",
    "optimizer = torch.optim.Adam(model.parameters(), lr=0.01)"
   ]
  },
  {
   "cell_type": "code",
   "execution_count": 3,
   "id": "05992366",
   "metadata": {},
   "outputs": [
    {
     "name": "stdout",
     "output_type": "stream",
     "text": [
      "Epoch 10/100, Loss: 0.4362\n",
      "Epoch 20/100, Loss: 0.1993\n",
      "Epoch 30/100, Loss: 0.1280\n",
      "Epoch 40/100, Loss: 0.0900\n",
      "Epoch 50/100, Loss: 0.0650\n",
      "Epoch 60/100, Loss: 0.0473\n",
      "Epoch 70/100, Loss: 0.0338\n",
      "Epoch 80/100, Loss: 0.0251\n",
      "Epoch 90/100, Loss: 0.0190\n",
      "Epoch 100/100, Loss: 0.0160\n"
     ]
    }
   ],
   "source": [
    "num_epochs = 100\n",
    "for epoch in range(num_epochs):\n",
    "    model.train()\n",
    "    y_pred = model(X_train)  \n",
    "    loss = criterion(y_pred, y_train)  \n",
    "    optimizer.zero_grad()  \n",
    "    loss.backward()  \n",
    "    optimizer.step()  \n",
    "\n",
    "    if (epoch + 1) % 10 == 0:\n",
    "        print(f'Epoch {epoch+1}/{num_epochs}, Loss: {loss.item():.4f}')"
   ]
  },
  {
   "cell_type": "code",
   "execution_count": 4,
   "id": "14e4aa0c",
   "metadata": {},
   "outputs": [
    {
     "name": "stdout",
     "output_type": "stream",
     "text": [
      "Classification Report:\n",
      "              precision    recall  f1-score   support\n",
      "\n",
      "           0       0.95      0.95      0.95       119\n",
      "           1       0.95      0.94      0.95       304\n",
      "           2       0.92      0.95      0.93       165\n",
      "\n",
      "    accuracy                           0.94       588\n",
      "   macro avg       0.94      0.94      0.94       588\n",
      "weighted avg       0.94      0.94      0.94       588\n",
      "\n",
      "Confusion Matrix:\n",
      "[[113   5   1]\n",
      " [  6 285  13]\n",
      " [  0   9 156]]\n"
     ]
    },
    {
     "data": {
      "image/png": "[encoded data removed]",
      "text/plain": [
       "<Figure size 800x600 with 2 Axes>"
      ]
     },
     "metadata": {},
     "output_type": "display_data"
    }
   ],
   "source": [
    "from sklearn.metrics import classification_report, confusion_matrix\n",
    "import numpy as np\n",
    "\n",
    "model.eval()\n",
    "with torch.no_grad():\n",
    "    y_pred_test = model(X_test)\n",
    "    y_pred_classes = torch.argmax(y_pred_test, axis=1) \n",
    "\n",
    "print(\"Classification Report:\")\n",
    "print(classification_report(y_test, y_pred_classes.numpy()))\n",
    "\n",
    "conf_matrix = confusion_matrix(y_test, y_pred_classes.numpy())\n",
    "print(\"Confusion Matrix:\")\n",
    "print(conf_matrix)\n",
    "\n",
    "import seaborn as sns\n",
    "import matplotlib.pyplot as plt\n",
    "plt.figure(figsize=(8, 6))\n",
    "sns.heatmap(conf_matrix, annot=True, fmt=\"d\", cmap=\"Blues\", xticklabels=[\"Low\", \"Medium\", \"High\"], yticklabels=[\"Low\", \"Medium\", \"High\"])\n",
    "plt.xlabel(\"Predicted\")\n",
    "plt.ylabel(\"Actual\")\n",
    "plt.title(\"Confusion Matrix\")\n",
    "plt.show()\n"
   ]
  },
  {
   "cell_type": "markdown",
   "id": "dd002f90",
   "metadata": {},
   "source": [
    "Модель не змогла досягти кращих результатів за Random Forest, але це бейзлайн-архітектура і вона має високі скори, тож я вважаю що є всі шанси покращити результати моделі."
   ]
  },
  {
   "cell_type": "markdown",
   "id": "24901402",
   "metadata": {},
   "source": [
    "# 2. Згорткові нейронні мережі\n",
    "# Вирішіть завдання класифікації зображень за допомогою згорткової (convolutional) нейромережі двома способами\n",
    "# а) навчить мережу з нуля (from scratch)\n",
    "# б) застосуйте перенесення навчання (transfer learning from pre-trained weights)\n",
    "# Порівняйте результати (якщо в обраному датасеті класів забагато, достатньо залишити 3-5)."
   ]
  },
  {
   "cell_type": "code",
   "execution_count": 5,
   "id": "b09af6e6-f9aa-451b-b789-7e96b3df54d9",
   "metadata": {},
   "outputs": [
    {
     "name": "stdout",
     "output_type": "stream",
     "text": [
      "Класи в датасеті: ['jerry', 'tom']\n",
      "Кількість класів: 2, Класи: ['jerry', 'tom']\n"
     ]
    }
   ],
   "source": [
    "import torch\n",
    "from torchvision import transforms\n",
    "from torchvision.datasets import ImageFolder\n",
    "from torch.utils.data import DataLoader\n",
    "import os\n",
    "\n",
    "\n",
    "data_path = \"tom_and_jerry_dataset\"\n",
    "\n",
    "\n",
    "transform = transforms.Compose([\n",
    "    transforms.Resize((128, 128)),  \n",
    "    transforms.ToTensor(),  \n",
    "    transforms.Normalize(mean=[0.5, 0.5, 0.5], std=[0.5, 0.5, 0.5]) \n",
    "])\n",
    "\n",
    "\n",
    "dataset = ImageFolder(root=data_path, transform=transform)\n",
    "\n",
    "train_size = int(0.8 * len(dataset))\n",
    "test_size = len(dataset) - train_size\n",
    "train_dataset, test_dataset = torch.utils.data.random_split(dataset, [train_size, test_size])\n",
    "\n",
    "\n",
    "train_loader = DataLoader(train_dataset, batch_size=32, shuffle=True)\n",
    "test_loader = DataLoader(test_dataset, batch_size=32, shuffle=False)\n",
    "\n",
    "num_classes = len(dataset.classes)"
   ]
  },
  {
   "cell_type": "code",
   "execution_count": 10,
   "id": "e4951554-508c-4ee5-82ae-14bee68e57a9",
   "metadata": {},
   "outputs": [],
   "source": [
    "import torch.optim as optim\n",
    "from sklearn.metrics import accuracy_score\n",
    "\n",
    "criterion = nn.CrossEntropyLoss()\n",
    "optimizer = optim.Adam(model.parameters(), lr=0.001)\n"
   ]
  },
  {
   "cell_type": "code",
   "execution_count": 11,
   "id": "f13830e7",
   "metadata": {},
   "outputs": [],
   "source": [
    "from torchvision.models import resnet18\n",
    "\n",
    "model = resnet18(pretrained=False)\n",
    "model.fc = nn.Linear(model.fc.in_features, num_classes)"
   ]
  },
  {
   "cell_type": "code",
   "execution_count": 12,
   "id": "4b151042",
   "metadata": {},
   "outputs": [
    {
     "name": "stdout",
     "output_type": "stream",
     "text": [
      "Epoch 1/15, Loss: 0.4562\n",
      "Epoch 2/15, Loss: 0.6791\n",
      "Epoch 3/15, Loss: 0.5906\n",
      "Epoch 4/15, Loss: 0.5153\n",
      "Epoch 5/15, Loss: 0.5669\n",
      "Epoch 6/15, Loss: 0.6423\n",
      "Epoch 7/15, Loss: 0.7108\n",
      "Epoch 8/15, Loss: 0.5657\n",
      "Epoch 9/15, Loss: 0.5100\n",
      "Epoch 10/15, Loss: 0.4681\n",
      "Epoch 11/15, Loss: 0.6296\n",
      "Epoch 12/15, Loss: 0.6141\n",
      "Epoch 13/15, Loss: 0.5871\n",
      "Epoch 14/15, Loss: 0.7318\n",
      "Epoch 15/15, Loss: 0.5402\n",
      "Accuracy (transfer learning): 0.7603\n"
     ]
    }
   ],
   "source": [
    "criterion = nn.CrossEntropyLoss()\n",
    "optimizer = optim.Adam(model.fc.parameters(), lr=0.001)\n",
    "\n",
    "num_epochs = 15\n",
    "for epoch in range(num_epochs):\n",
    "    model.train()\n",
    "    for images, labels in train_loader:\n",
    "        optimizer.zero_grad()\n",
    "        outputs = model(images)\n",
    "        loss = criterion(outputs, labels)\n",
    "        loss.backward()\n",
    "        optimizer.step()\n",
    "    print(f'Epoch {epoch+1}/{num_epochs}, Loss: {loss.item():.4f}')\n",
    "\n",
    "\n",
    "model.eval()\n",
    "y_true, y_pred = [], []\n",
    "with torch.no_grad():\n",
    "    for images, labels in test_loader:\n",
    "        outputs = model(images)\n",
    "        _, predicted = torch.max(outputs, 1)\n",
    "        y_true.extend(labels.numpy())\n",
    "        y_pred.extend(predicted.numpy())\n",
    "\n",
    "accuracy = accuracy_score(y_true, y_pred)\n",
    "print(f'Accuracy (no transfer learning): {accuracy:.4f}')"
   ]
  },
  {
   "cell_type": "code",
   "execution_count": 13,
   "id": "ee8551b3-c8b0-4071-9c10-a3cdfce6b5e1",
   "metadata": {},
   "outputs": [
    {
     "name": "stderr",
     "output_type": "stream",
     "text": [
      "C:\\Users\\v1415\\AppData\\Roaming\\Python\\Python311\\site-packages\\torchvision\\models\\_utils.py:208: UserWarning: The parameter 'pretrained' is deprecated since 0.13 and may be removed in the future, please use 'weights' instead.\n",
      "  warnings.warn(\n",
      "C:\\Users\\v1415\\AppData\\Roaming\\Python\\Python311\\site-packages\\torchvision\\models\\_utils.py:223: UserWarning: Arguments other than a weight enum or `None` for 'weights' are deprecated since 0.13 and may be removed in the future. The current behavior is equivalent to passing `weights=ResNet18_Weights.IMAGENET1K_V1`. You can also use `weights=ResNet18_Weights.DEFAULT` to get the most up-to-date weights.\n",
      "  warnings.warn(msg)\n"
     ]
    }
   ],
   "source": [
    "from torchvision.models import resnet18\n",
    "\n",
    "model = resnet18(pretrained=True)\n",
    "model.fc = nn.Linear(model.fc.in_features, num_classes)\n",
    "\n",
    "for param in model.parameters():\n",
    "    param.requires_grad = False\n",
    "model.fc.weight.requires_grad = True\n",
    "model.fc.bias.requires_grad = True"
   ]
  },
  {
   "cell_type": "code",
   "execution_count": 14,
   "id": "18da009c-fdb2-4922-8656-dcab9acfc7b4",
   "metadata": {},
   "outputs": [
    {
     "name": "stdout",
     "output_type": "stream",
     "text": [
      "Epoch 1/15, Loss: 0.9797\n",
      "Epoch 2/15, Loss: 0.2351\n",
      "Epoch 3/15, Loss: 0.3806\n",
      "Epoch 4/15, Loss: 0.4576\n",
      "Epoch 5/15, Loss: 0.1862\n",
      "Epoch 6/15, Loss: 0.0983\n",
      "Epoch 7/15, Loss: 0.2914\n",
      "Epoch 8/15, Loss: 0.4375\n",
      "Epoch 9/15, Loss: 0.3404\n",
      "Epoch 10/15, Loss: 0.2335\n",
      "Epoch 11/15, Loss: 0.7845\n",
      "Epoch 12/15, Loss: 0.4143\n",
      "Epoch 13/15, Loss: 0.1174\n",
      "Epoch 14/15, Loss: 0.3294\n",
      "Epoch 15/15, Loss: 0.7931\n",
      "Accuracy (transfer learning): 0.8738\n"
     ]
    }
   ],
   "source": [
    "criterion = nn.CrossEntropyLoss()\n",
    "optimizer = optim.Adam(model.fc.parameters(), lr=0.001)\n",
    "\n",
    "\n",
    "num_epochs = 15\n",
    "for epoch in range(num_epochs):\n",
    "    model.train()\n",
    "    for images, labels in train_loader:\n",
    "        optimizer.zero_grad()\n",
    "        outputs = model(images)\n",
    "        loss = criterion(outputs, labels)\n",
    "        loss.backward()\n",
    "        optimizer.step()\n",
    "    print(f'Epoch {epoch+1}/{num_epochs}, Loss: {loss.item():.4f}')\n",
    "\n",
    "    \n",
    "model.eval()\n",
    "y_true, y_pred = [], []\n",
    "with torch.no_grad():\n",
    "    for images, labels in test_loader:\n",
    "        outputs = model(images)\n",
    "        _, predicted = torch.max(outputs, 1)\n",
    "        y_true.extend(labels.numpy())\n",
    "        y_pred.extend(predicted.numpy())\n",
    "\n",
    "accuracy = accuracy_score(y_true, y_pred)\n",
    "print(f'Accuracy (transfer learning): {accuracy:.4f}')\n"
   ]
  },
  {
   "cell_type": "markdown",
   "id": "5758cd15",
   "metadata": {},
   "source": [
    "Претрейн досяг кращих результатів за однаковий проміжок часу."
   ]
  },
  {
   "cell_type": "markdown",
   "id": "9ae1c9f2",
   "metadata": {},
   "source": [
    "# 3. Рекурентні нейронні мережі\n",
    "# Вирішіть задачу класифікації текстів (з якими ви працювали в лабораторній № 2) за допомогою рекурентної нейромережі двома способами:\n",
    "# а) навчить мережу і embedding шар з нуля (from scratch)\n",
    "# б) використовуючи pretrained word embeddings\n",
    "#  Результати порівняйте між собою і з одержаними раніш. "
   ]
  },
  {
   "cell_type": "code",
   "execution_count": 15,
   "id": "2b253030-3663-4b89-9d0b-7bb3a0bb4d27",
   "metadata": {},
   "outputs": [
    {
     "name": "stdout",
     "output_type": "stream",
     "text": [
      "                                              review sentiment\n",
      "0  films adapted from comic books have had plenty...  positive\n",
      "1  every now and then a movie comes along from a ...  positive\n",
      "2  you've got mail works alot better than it dese...  positive\n",
      "3   \" jaws \" is a rare film that grabs your atten...  positive\n",
      "4  moviemaking is a lot like being the general ma...  positive\n"
     ]
    }
   ],
   "source": [
    "import os\n",
    "import pandas as pd\n",
    "\n",
    "\n",
    "dataset_path = r\"review_polarity\\txt_sentoken\"\n",
    "\n",
    "\n",
    "pos_reviews = []\n",
    "neg_reviews = []\n",
    "\n",
    "\n",
    "for filename in os.listdir(os.path.join(dataset_path, \"pos\")):\n",
    "    with open(os.path.join(dataset_path, \"pos\", filename), \"r\", encoding=\"utf-8\") as file:\n",
    "        pos_reviews.append(file.read())\n",
    "\n",
    "        \n",
    "for filename in os.listdir(os.path.join(dataset_path, \"neg\")):\n",
    "    with open(os.path.join(dataset_path, \"neg\", filename), \"r\", encoding=\"utf-8\") as file:\n",
    "        neg_reviews.append(file.read())\n",
    "\n",
    "        \n",
    "reviews = pos_reviews + neg_reviews\n",
    "labels = [\"positive\"] * len(pos_reviews) + [\"negative\"] * len(neg_reviews)\n",
    "\n",
    "df = pd.DataFrame({\"review\": reviews, \"sentiment\": labels})\n",
    "print(df.head())"
   ]
  },
  {
   "cell_type": "code",
   "execution_count": 37,
   "id": "d5c45280",
   "metadata": {},
   "outputs": [
    {
     "name": "stderr",
     "output_type": "stream",
     "text": [
      "[nltk_data] Downloading package punkt to\n",
      "[nltk_data]     C:\\Users\\v1415\\AppData\\Roaming\\nltk_data...\n",
      "[nltk_data]   Package punkt is already up-to-date!\n"
     ]
    }
   ],
   "source": [
    "import pandas as pd\n",
    "import torch\n",
    "from sklearn.model_selection import train_test_split\n",
    "from torch.utils.data import DataLoader, Dataset\n",
    "from torch.nn.utils.rnn import pad_sequence\n",
    "from collections import Counter\n",
    "from nltk.tokenize import word_tokenize\n",
    "import nltk\n",
    "\n",
    "nltk.download('punkt')\n",
    "\n",
    "\n",
    "df['tokens'] = df['review'].apply(word_tokenize)\n",
    "\n",
    "\n",
    "word_counter = Counter(token for tokens in df['tokens'] for token in tokens)\n",
    "vocab = {word: i+2 for i, (word, _) in enumerate(word_counter.most_common(5000))}\n",
    "vocab['<pad>'] = 0\n",
    "vocab['<unk>'] = 1\n",
    "\n",
    "\n",
    "def text_pipeline(tokens):\n",
    "    return [vocab.get(token, vocab['<unk>']) for token in tokens]\n",
    "\n",
    "df['encoded'] = df['tokens'].apply(text_pipeline)\n",
    "\n",
    "\n",
    "labels = {'positive': 1, 'negative': 0}\n",
    "df['label'] = df['sentiment'].map(labels)\n",
    "\n",
    "\n",
    "train_data, test_data = train_test_split(df, test_size=0.2, random_state=42)\n"
   ]
  },
  {
   "cell_type": "code",
   "execution_count": 38,
   "id": "60ff8c84",
   "metadata": {},
   "outputs": [],
   "source": [
    "class TextDataset(Dataset):\n",
    "    def __init__(self, data):\n",
    "        self.data = data\n",
    "\n",
    "    def __len__(self):\n",
    "        return len(self.data)\n",
    "\n",
    "    def __getitem__(self, idx):\n",
    "        tokens = self.data.iloc[idx]['encoded']\n",
    "        label = self.data.iloc[idx]['label']\n",
    "        return torch.tensor(tokens, dtype=torch.long), torch.tensor(label, dtype=torch.long)\n",
    "\n",
    "    \n",
    "def collate_batch(batch):\n",
    "    texts, labels = zip(*batch)\n",
    "    texts = pad_sequence(texts, batch_first=True, padding_value=0)\n",
    "    labels = torch.tensor(labels, dtype=torch.long)\n",
    "    return texts, labels\n",
    "\n",
    "\n",
    "train_dataset = TextDataset(train_data)\n",
    "test_dataset = TextDataset(test_data)\n",
    "\n",
    "train_loader = DataLoader(train_dataset, batch_size=32, collate_fn=collate_batch, shuffle=True)\n",
    "test_loader = DataLoader(test_dataset, batch_size=32, collate_fn=collate_batch)\n"
   ]
  },
  {
   "cell_type": "code",
   "execution_count": 39,
   "id": "63a17b89",
   "metadata": {},
   "outputs": [],
   "source": [
    "import torch.nn as nn\n",
    "import torch.nn.functional as F\n",
    "\n",
    "class RNNModel(nn.Module):\n",
    "    def __init__(self, vocab_size, embed_dim, hidden_dim, num_classes):\n",
    "        super(RNNModel, self).__init__()\n",
    "        self.embedding = nn.Embedding(vocab_size, embed_dim)\n",
    "        self.lstm = nn.LSTM(embed_dim, hidden_dim, batch_first=True)\n",
    "        self.fc = nn.Linear(hidden_dim, num_classes)\n",
    "\n",
    "    def forward(self, x):\n",
    "        embedded = self.embedding(x)\n",
    "        _, (hidden, _) = self.lstm(embedded)\n",
    "        output = self.fc(hidden.squeeze(0))\n",
    "        return output\n",
    "\n",
    "    \n",
    "vocab_size = len(vocab)\n",
    "embed_dim = 100\n",
    "hidden_dim = 128\n",
    "num_classes = 2  # positive, negative\n",
    "\n",
    "model = RNNModel(vocab_size, embed_dim, hidden_dim, num_classes)\n"
   ]
  },
  {
   "cell_type": "code",
   "execution_count": 41,
   "id": "e5104561",
   "metadata": {},
   "outputs": [
    {
     "name": "stdout",
     "output_type": "stream",
     "text": [
      "Epoch 1/10, Loss: 34.5570\n",
      "Epoch 2/10, Loss: 34.3653\n",
      "Epoch 3/10, Loss: 34.1186\n",
      "Epoch 4/10, Loss: 34.1095\n",
      "Epoch 5/10, Loss: 33.8609\n",
      "Epoch 6/10, Loss: 34.1312\n",
      "Epoch 7/10, Loss: 33.8413\n",
      "Epoch 8/10, Loss: 33.8160\n",
      "Epoch 9/10, Loss: 33.7512\n",
      "Epoch 10/10, Loss: 33.6553\n"
     ]
    }
   ],
   "source": [
    "criterion = nn.CrossEntropyLoss()\n",
    "optimizer = torch.optim.Adam(model.parameters(), lr=0.001)\n",
    "\n",
    "\n",
    "num_epochs = 10\n",
    "for epoch in range(num_epochs):\n",
    "    model.train()\n",
    "    total_loss = 0\n",
    "    for texts, labels in train_loader:\n",
    "        optimizer.zero_grad()\n",
    "        outputs = model(texts)\n",
    "        loss = criterion(outputs, labels)\n",
    "        loss.backward()\n",
    "        optimizer.step()\n",
    "        total_loss += loss.item()\n",
    "    print(f'Epoch {epoch+1}/{num_epochs}, Loss: {total_loss:.4f}')\n"
   ]
  },
  {
   "cell_type": "code",
   "execution_count": 44,
   "id": "4e4d69c0",
   "metadata": {},
   "outputs": [
    {
     "name": "stdout",
     "output_type": "stream",
     "text": [
      "Classification Report:\n",
      "              precision    recall  f1-score   support\n",
      "\n",
      "           0       0.50      0.98      0.66       201\n",
      "           1       0.55      0.03      0.06       199\n",
      "\n",
      "    accuracy                           0.51       400\n",
      "   macro avg       0.52      0.50      0.36       400\n",
      "weighted avg       0.52      0.51      0.36       400\n",
      "\n",
      "Confusion Matrix:\n",
      "[[196   5]\n",
      " [193   6]]\n"
     ]
    }
   ],
   "source": [
    "from sklearn.metrics import classification_report, confusion_matrix\n",
    "\n",
    "model.eval()\n",
    "y_true, y_pred = [], []\n",
    "with torch.no_grad():\n",
    "    for texts, labels in test_loader:\n",
    "        outputs = model(texts)\n",
    "        predictions = torch.argmax(outputs, dim=1)\n",
    "        y_true.extend(labels.numpy())\n",
    "        y_pred.extend(predictions.numpy())\n",
    "\n",
    "\n",
    "print(\"Classification Report:\")\n",
    "print(classification_report(y_true, y_pred))\n",
    "\n",
    "\n",
    "print(\"Confusion Matrix:\")\n",
    "print(confusion_matrix(y_true, y_pred))\n"
   ]
  },
  {
   "cell_type": "code",
   "execution_count": 45,
   "id": "33a79f6d",
   "metadata": {},
   "outputs": [],
   "source": [
    "from gensim.models import KeyedVectors\n",
    "\n",
    "glove_path = 'glove.6B.100d.txt'\n",
    "glove = KeyedVectors.load_word2vec_format(glove_path, binary=False, no_header=True)\n",
    "\n",
    "embedding_matrix = np.zeros((vocab_size, 100))\n",
    "for word, idx in vocab.items():\n",
    "    if word in glove:\n",
    "        embedding_matrix[idx] = glove[word]\n",
    "\n",
    "model.embedding = nn.Embedding.from_pretrained(torch.tensor(embedding_matrix, dtype=torch.float32), freeze=False)\n"
   ]
  },
  {
   "cell_type": "code",
   "execution_count": 46,
   "id": "40f3379d",
   "metadata": {},
   "outputs": [
    {
     "name": "stdout",
     "output_type": "stream",
     "text": [
      "Epoch 1/10, Loss: 38.5575\n",
      "Epoch 2/10, Loss: 34.7189\n",
      "Epoch 3/10, Loss: 34.5753\n",
      "Epoch 4/10, Loss: 34.6298\n",
      "Epoch 5/10, Loss: 34.6231\n",
      "Epoch 6/10, Loss: 34.6416\n",
      "Epoch 7/10, Loss: 34.6737\n",
      "Epoch 8/10, Loss: 34.5805\n",
      "Epoch 9/10, Loss: 34.6646\n",
      "Epoch 10/10, Loss: 34.5415\n"
     ]
    }
   ],
   "source": [
    "criterion = nn.CrossEntropyLoss()\n",
    "optimizer = torch.optim.Adam(model.parameters(), lr=0.001)\n",
    "\n",
    "num_epochs = 10\n",
    "for epoch in range(num_epochs):\n",
    "    model.train()\n",
    "    total_loss = 0\n",
    "    for texts, labels in train_loader:\n",
    "        optimizer.zero_grad()\n",
    "        outputs = model(texts)\n",
    "        loss = criterion(outputs, labels)\n",
    "        loss.backward()\n",
    "        optimizer.step()\n",
    "        total_loss += loss.item()\n",
    "    print(f'Epoch {epoch+1}/{num_epochs}, Loss: {total_loss:.4f}')\n"
   ]
  },
  {
   "cell_type": "code",
   "execution_count": 47,
   "id": "94598c66",
   "metadata": {},
   "outputs": [
    {
     "name": "stdout",
     "output_type": "stream",
     "text": [
      "Classification Report:\n",
      "              precision    recall  f1-score   support\n",
      "\n",
      "           0       0.51      0.98      0.67       201\n",
      "           1       0.67      0.05      0.09       199\n",
      "\n",
      "    accuracy                           0.52       400\n",
      "   macro avg       0.59      0.51      0.38       400\n",
      "weighted avg       0.59      0.52      0.38       400\n",
      "\n",
      "Confusion Matrix:\n",
      "[[196   5]\n",
      " [189  10]]\n"
     ]
    }
   ],
   "source": [
    "from sklearn.metrics import classification_report, confusion_matrix\n",
    "\n",
    "model.eval()\n",
    "y_true, y_pred = [], []\n",
    "with torch.no_grad():\n",
    "    for texts, labels in test_loader:\n",
    "        outputs = model(texts)\n",
    "        predictions = torch.argmax(outputs, dim=1)\n",
    "        y_true.extend(labels.numpy())\n",
    "        y_pred.extend(predictions.numpy())\n",
    "\n",
    "print(\"Classification Report:\")\n",
    "print(classification_report(y_true, y_pred))\n",
    "\n",
    "print(\"Confusion Matrix:\")\n",
    "print(confusion_matrix(y_true, y_pred))\n"
   ]
  },
  {
   "cell_type": "markdown",
   "id": "0c5a7241",
   "metadata": {},
   "source": [
    "З претрейном у виді Glove точність покращилась"
   ]
  }
 ],
 "metadata": {
  "kernelspec": {
   "display_name": "Python 3 (ipykernel)",
   "language": "python",
   "name": "python3"
  },
  "language_info": {
   "codemirror_mode": {
    "name": "ipython",
    "version": 3
   },
   "file_extension": ".py",
   "mimetype": "text/x-python",
   "name": "python",
   "nbconvert_exporter": "python",
   "pygments_lexer": "ipython3",
   "version": "3.11.3"
  }
 },
 "nbformat": 4,
 "nbformat_minor": 5
}
